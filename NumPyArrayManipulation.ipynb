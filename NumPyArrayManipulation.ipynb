{
 "cells": [
  {
   "cell_type": "markdown",
   "metadata": {},
   "source": [
    "**NumPy Array Manipulation**\n",
    "\n",
    "* p. 42 in VanderPlas - Python Data Science Handbook\n",
    "* p. 85 in McKinney - Python for Data Analysis\n",
    "    * file:///C:/Users/jpkee/Desktop/PythonProjects/Books%20and%20PDFs/Python-for-Data-Analysis-2nd-Edition.BETTER.VERSION.pdf\n"
   ]
  },
  {
   "cell_type": "code",
   "execution_count": null,
   "metadata": {},
   "outputs": [],
   "source": [
    "\n",
    "        "
   ]
  }
 ],
 "metadata": {
  "kernelspec": {
   "display_name": "Python 3",
   "language": "python",
   "name": "python3"
  },
  "language_info": {
   "codemirror_mode": {
    "name": "ipython",
    "version": 3
   },
   "file_extension": ".py",
   "mimetype": "text/x-python",
   "name": "python",
   "nbconvert_exporter": "python",
   "pygments_lexer": "ipython3",
   "version": "3.7.6"
  }
 },
 "nbformat": 4,
 "nbformat_minor": 4
}
