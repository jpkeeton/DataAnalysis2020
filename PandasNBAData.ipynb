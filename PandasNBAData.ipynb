{
 "cells": [
  {
   "cell_type": "code",
   "execution_count": 2,
   "metadata": {},
   "outputs": [],
   "source": [
    "import pandas as pd\n",
    "# do i need the os.path import?\n",
    "# that must have been for my try catch example\n",
    "# import os.path\n",
    "nbaStats = pd.read_csv(\"C:/Users/jpkee/Desktop/PythonProjects/NBA 2018-19 Season.csv\")\n",
    "\n",
    "\n",
    "# try:\n",
    "#     f = open(\"filename.txt\")\n",
    "#     # Do something with the file\n",
    "# except IOError:\n",
    "#     print(\"File not accessible\")\n",
    "# finally:\n",
    "#     f.close()\n",
    "    \n",
    "# try:\n",
    "#     nbaStats = pd.read_csv(\"C:/Users/jpkee/Desktop/PythonProjects/NBA 2018-19 Season.csv\")\n",
    "# except IOError:\n",
    "#     print(\"can't find this file\")\n",
    "# finally:\n",
    "#     nbaStats.close()"
   ]
  },
  {
   "cell_type": "code",
   "execution_count": 3,
   "metadata": {},
   "outputs": [
    {
     "data": {
      "text/html": [
       "<div>\n",
       "<style scoped>\n",
       "    .dataframe tbody tr th:only-of-type {\n",
       "        vertical-align: middle;\n",
       "    }\n",
       "\n",
       "    .dataframe tbody tr th {\n",
       "        vertical-align: top;\n",
       "    }\n",
       "\n",
       "    .dataframe thead th {\n",
       "        text-align: right;\n",
       "    }\n",
       "</style>\n",
       "<table border=\"1\" class=\"dataframe\">\n",
       "  <thead>\n",
       "    <tr style=\"text-align: right;\">\n",
       "      <th></th>\n",
       "      <th>Conference</th>\n",
       "      <th>Division</th>\n",
       "      <th>Team</th>\n",
       "      <th>Player</th>\n",
       "      <th>Age</th>\n",
       "      <th>Games</th>\n",
       "      <th>Games Started</th>\n",
       "      <th>Minutes Played</th>\n",
       "      <th>Field Goals</th>\n",
       "      <th>Field Goal Attempts</th>\n",
       "      <th>...</th>\n",
       "      <th>Free Throw Percentage</th>\n",
       "      <th>Offensive Rebounds</th>\n",
       "      <th>Defensive Rebounds</th>\n",
       "      <th>Total Rebounds</th>\n",
       "      <th>Assists</th>\n",
       "      <th>Steals</th>\n",
       "      <th>Blocks</th>\n",
       "      <th>Turnovers</th>\n",
       "      <th>Personal Fouls</th>\n",
       "      <th>Points</th>\n",
       "    </tr>\n",
       "  </thead>\n",
       "  <tbody>\n",
       "    <tr>\n",
       "      <th>0</th>\n",
       "      <td>Eastern</td>\n",
       "      <td>Atlantic</td>\n",
       "      <td>Boston Celtics</td>\n",
       "      <td>Jayson Tatum</td>\n",
       "      <td>20</td>\n",
       "      <td>79</td>\n",
       "      <td>79</td>\n",
       "      <td>2455</td>\n",
       "      <td>466</td>\n",
       "      <td>1036</td>\n",
       "      <td>...</td>\n",
       "      <td>0.855</td>\n",
       "      <td>70</td>\n",
       "      <td>407</td>\n",
       "      <td>477</td>\n",
       "      <td>168</td>\n",
       "      <td>84</td>\n",
       "      <td>57</td>\n",
       "      <td>122</td>\n",
       "      <td>168</td>\n",
       "      <td>1243</td>\n",
       "    </tr>\n",
       "    <tr>\n",
       "      <th>1</th>\n",
       "      <td>Eastern</td>\n",
       "      <td>Atlantic</td>\n",
       "      <td>Boston Celtics</td>\n",
       "      <td>Kyrie Irving</td>\n",
       "      <td>26</td>\n",
       "      <td>67</td>\n",
       "      <td>67</td>\n",
       "      <td>2214</td>\n",
       "      <td>604</td>\n",
       "      <td>1241</td>\n",
       "      <td>...</td>\n",
       "      <td>0.873</td>\n",
       "      <td>71</td>\n",
       "      <td>264</td>\n",
       "      <td>335</td>\n",
       "      <td>464</td>\n",
       "      <td>103</td>\n",
       "      <td>34</td>\n",
       "      <td>172</td>\n",
       "      <td>167</td>\n",
       "      <td>1596</td>\n",
       "    </tr>\n",
       "    <tr>\n",
       "      <th>2</th>\n",
       "      <td>Eastern</td>\n",
       "      <td>Atlantic</td>\n",
       "      <td>Boston Celtics</td>\n",
       "      <td>Marcus Smart</td>\n",
       "      <td>24</td>\n",
       "      <td>80</td>\n",
       "      <td>60</td>\n",
       "      <td>2200</td>\n",
       "      <td>239</td>\n",
       "      <td>567</td>\n",
       "      <td>...</td>\n",
       "      <td>0.806</td>\n",
       "      <td>57</td>\n",
       "      <td>177</td>\n",
       "      <td>234</td>\n",
       "      <td>321</td>\n",
       "      <td>143</td>\n",
       "      <td>28</td>\n",
       "      <td>123</td>\n",
       "      <td>201</td>\n",
       "      <td>708</td>\n",
       "    </tr>\n",
       "  </tbody>\n",
       "</table>\n",
       "<p>3 rows × 30 columns</p>\n",
       "</div>"
      ],
      "text/plain": [
       "  Conference  Division            Team        Player  Age  Games  \\\n",
       "0    Eastern  Atlantic  Boston Celtics  Jayson Tatum   20     79   \n",
       "1    Eastern  Atlantic  Boston Celtics  Kyrie Irving   26     67   \n",
       "2    Eastern  Atlantic  Boston Celtics  Marcus Smart   24     80   \n",
       "\n",
       "   Games Started  Minutes Played  Field Goals  Field Goal Attempts  ...  \\\n",
       "0             79            2455          466                 1036  ...   \n",
       "1             67            2214          604                 1241  ...   \n",
       "2             60            2200          239                  567  ...   \n",
       "\n",
       "   Free Throw Percentage  Offensive Rebounds  Defensive Rebounds  \\\n",
       "0                  0.855                  70                 407   \n",
       "1                  0.873                  71                 264   \n",
       "2                  0.806                  57                 177   \n",
       "\n",
       "   Total Rebounds  Assists  Steals  Blocks  Turnovers  Personal Fouls  Points  \n",
       "0             477      168      84      57        122             168    1243  \n",
       "1             335      464     103      34        172             167    1596  \n",
       "2             234      321     143      28        123             201     708  \n",
       "\n",
       "[3 rows x 30 columns]"
      ]
     },
     "execution_count": 3,
     "metadata": {},
     "output_type": "execute_result"
    }
   ],
   "source": [
    "nbaStats.head(3)"
   ]
  },
  {
   "cell_type": "code",
   "execution_count": 4,
   "metadata": {},
   "outputs": [
    {
     "data": {
      "text/plain": [
       "0      20\n",
       "1      26\n",
       "2      24\n",
       "3      29\n",
       "4      32\n",
       "       ..\n",
       "617    32\n",
       "618    33\n",
       "619    23\n",
       "620    21\n",
       "621    21\n",
       "Name: Age, Length: 622, dtype: int64"
      ]
     },
     "execution_count": 4,
     "metadata": {},
     "output_type": "execute_result"
    }
   ],
   "source": [
    "# bracket notation\n",
    "nbaStats['Age']"
   ]
  },
  {
   "cell_type": "code",
   "execution_count": 5,
   "metadata": {},
   "outputs": [
    {
     "data": {
      "text/plain": [
       "0      20\n",
       "1      26\n",
       "2      24\n",
       "3      29\n",
       "4      32\n",
       "       ..\n",
       "617    32\n",
       "618    33\n",
       "619    23\n",
       "620    21\n",
       "621    21\n",
       "Name: Age, Length: 622, dtype: int64"
      ]
     },
     "execution_count": 5,
     "metadata": {},
     "output_type": "execute_result"
    }
   ],
   "source": [
    "# dot notation, don't use it!\n",
    "nbaStats.Age"
   ]
  },
  {
   "cell_type": "code",
   "execution_count": 7,
   "metadata": {},
   "outputs": [
    {
     "data": {
      "text/plain": [
       "True"
      ]
     },
     "execution_count": 7,
     "metadata": {},
     "output_type": "execute_result"
    }
   ],
   "source": [
    "# to confirm file found use path here:\n",
    "import os.path\n",
    "os.path.exists('C:/Users/jpkee/Desktop/PythonProjects/NBA 2018-19 Season.csv')"
   ]
  },
  {
   "cell_type": "code",
   "execution_count": 15,
   "metadata": {},
   "outputs": [
    {
     "name": "stdout",
     "output_type": "stream",
     "text": [
      "I found the file\n"
     ]
    }
   ],
   "source": [
    "# try an if else here?\n",
    "import os.path\n",
    "if os.path.isfile('C:/Users/jpkee/Desktop/PythonProjects/NBA 2018-19 Season.csv'):\n",
    "    print(\"I found the file\")\n",
    "else:\n",
    "    print(\"Looks like a bad file path\")"
   ]
  },
  {
   "cell_type": "code",
   "execution_count": null,
   "metadata": {},
   "outputs": [],
   "source": []
  },
  {
   "cell_type": "code",
   "execution_count": 17,
   "metadata": {},
   "outputs": [
    {
     "name": "stdout",
     "output_type": "stream",
     "text": [
      "I found the file\n"
     ]
    }
   ],
   "source": [
    "import os.path\n",
    "if os.path.exists('C:/Users/jpkee/Desktop/PythonProjects'):\n",
    "    print(\"directory looks good\")\n",
    "else:\n",
    "    print(\"looks like a bad path\")"
   ]
  },
  {
   "cell_type": "code",
   "execution_count": 31,
   "metadata": {},
   "outputs": [],
   "source": [
    "# another way\n",
    "if os.path.exists(nbaStats): print(\"I get the file >hubaa\")"
   ]
  },
  {
   "cell_type": "code",
   "execution_count": 32,
   "metadata": {},
   "outputs": [],
   "source": [
    "# stick the file into a variable\n",
    "nbaStats = ('C:/Users/jpkee/Desktop/PythonProjects/NBA 2018-19 Season.cs')"
   ]
  },
  {
   "cell_type": "code",
   "execution_count": 33,
   "metadata": {},
   "outputs": [
    {
     "name": "stdout",
     "output_type": "stream",
     "text": [
      "C:/Users/jpkee/Desktop/PythonProjects/NBA 2018-19 Season.cs\n"
     ]
    }
   ],
   "source": [
    "print(nbaStats)"
   ]
  },
  {
   "cell_type": "code",
   "execution_count": 23,
   "metadata": {},
   "outputs": [
    {
     "ename": "AttributeError",
     "evalue": "module 'os' has no attribute 'touch'",
     "output_type": "error",
     "traceback": [
      "\u001b[1;31m---------------------------------------------------------------------------\u001b[0m",
      "\u001b[1;31mFileNotFoundError\u001b[0m                         Traceback (most recent call last)",
      "\u001b[1;32m<ipython-input-23-e431ebc8b5b3>\u001b[0m in \u001b[0;36m<module>\u001b[1;34m\u001b[0m\n\u001b[0;32m      2\u001b[0m \u001b[1;32mtry\u001b[0m\u001b[1;33m:\u001b[0m\u001b[1;33m\u001b[0m\u001b[1;33m\u001b[0m\u001b[0m\n\u001b[1;32m----> 3\u001b[1;33m     \u001b[0mfileTest\u001b[0m \u001b[1;33m=\u001b[0m \u001b[0mopen\u001b[0m\u001b[1;33m(\u001b[0m\u001b[0mnbaStats\u001b[0m\u001b[1;33m)\u001b[0m\u001b[1;33m\u001b[0m\u001b[1;33m\u001b[0m\u001b[0m\n\u001b[0m\u001b[0;32m      4\u001b[0m \u001b[1;32mexcept\u001b[0m \u001b[0mIOError\u001b[0m\u001b[1;33m:\u001b[0m\u001b[1;33m\u001b[0m\u001b[1;33m\u001b[0m\u001b[0m\n",
      "\u001b[1;31mFileNotFoundError\u001b[0m: [Errno 2] No such file or directory: 'C:/Users/jpkee/Desktop/PythonProjects/NBA 2018-19 Season.cs'",
      "\nDuring handling of the above exception, another exception occurred:\n",
      "\u001b[1;31mAttributeError\u001b[0m                            Traceback (most recent call last)",
      "\u001b[1;32m<ipython-input-23-e431ebc8b5b3>\u001b[0m in \u001b[0;36m<module>\u001b[1;34m\u001b[0m\n\u001b[0;32m      3\u001b[0m     \u001b[0mfileTest\u001b[0m \u001b[1;33m=\u001b[0m \u001b[0mopen\u001b[0m\u001b[1;33m(\u001b[0m\u001b[0mnbaStats\u001b[0m\u001b[1;33m)\u001b[0m\u001b[1;33m\u001b[0m\u001b[1;33m\u001b[0m\u001b[0m\n\u001b[0;32m      4\u001b[0m \u001b[1;32mexcept\u001b[0m \u001b[0mIOError\u001b[0m\u001b[1;33m:\u001b[0m\u001b[1;33m\u001b[0m\u001b[1;33m\u001b[0m\u001b[0m\n\u001b[1;32m----> 5\u001b[1;33m     \u001b[0mos\u001b[0m\u001b[1;33m.\u001b[0m\u001b[0mtouch\u001b[0m\u001b[1;33m(\u001b[0m\u001b[0mfile_name\u001b[0m\u001b[1;33m)\u001b[0m\u001b[1;33m\u001b[0m\u001b[1;33m\u001b[0m\u001b[0m\n\u001b[0m",
      "\u001b[1;31mAttributeError\u001b[0m: module 'os' has no attribute 'touch'"
     ]
    }
   ],
   "source": [
    "# Here's try example\n",
    "try:\n",
    "    fileTest = open(nbaStats)\n",
    "except IOError:\n",
    "    os.touch(file_name)"
   ]
  },
  {
   "cell_type": "code",
   "execution_count": null,
   "metadata": {},
   "outputs": [],
   "source": [
    "import os\n",
    "os.path.exists(path) # Returns whether the path (directory or file) exists or not\n",
    "os.path.isfile(path) # Returns whether the file exists or not"
   ]
  },
  {
   "cell_type": "code",
   "execution_count": 27,
   "metadata": {},
   "outputs": [],
   "source": [
    "name = \"asdf\"\n",
    "age = 44"
   ]
  },
  {
   "cell_type": "code",
   "execution_count": 28,
   "metadata": {},
   "outputs": [
    {
     "data": {
      "text/plain": [
       "'Hello, asdf. You are 44.'"
      ]
     },
     "execution_count": 28,
     "metadata": {},
     "output_type": "execute_result"
    }
   ],
   "source": [
    "# f string example\n",
    "f\"Hello, {name}. You are {age}.\""
   ]
  },
  {
   "cell_type": "code",
   "execution_count": 34,
   "metadata": {},
   "outputs": [],
   "source": [
    "import pandas as pd\n",
    "url = 'https://raw.githubusercontent.com/CSSEGISandData/COVID-19/master/csse_covid_19_data/csse_covid_19_time_series/time_series_covid19_deaths_global.csv'\n",
    "df = pd.read_csv(url, delimiter=',',header = 'infer')"
   ]
  },
  {
   "cell_type": "code",
   "execution_count": 35,
   "metadata": {},
   "outputs": [
    {
     "name": "stdout",
     "output_type": "stream",
     "text": [
      "    Province/State      Country/Region        Lat       Long  1/22/20  \\\n",
      "0              NaN         Afghanistan  33.939110  67.709953        0   \n",
      "1              NaN             Albania  41.153300  20.168300        0   \n",
      "2              NaN             Algeria  28.033900   1.659600        0   \n",
      "3              NaN             Andorra  42.506300   1.521800        0   \n",
      "4              NaN              Angola -11.202700  17.873900        0   \n",
      "..             ...                 ...        ...        ...      ...   \n",
      "261            NaN  West Bank and Gaza  31.952200  35.233200        0   \n",
      "262            NaN      Western Sahara  24.215500 -12.885800        0   \n",
      "263            NaN               Yemen  15.552727  48.516388        0   \n",
      "264            NaN              Zambia -13.133897  27.849332        0   \n",
      "265            NaN            Zimbabwe -19.015438  29.154857        0   \n",
      "\n",
      "     1/23/20  1/24/20  1/25/20  1/26/20  1/27/20  ...  9/17/20  9/18/20  \\\n",
      "0          0        0        0        0        0  ...     1436     1437   \n",
      "1          0        0        0        0        0  ...      347      353   \n",
      "2          0        0        0        0        0  ...     1654     1659   \n",
      "3          0        0        0        0        0  ...       53       53   \n",
      "4          0        0        0        0        0  ...      144      147   \n",
      "..       ...      ...      ...      ...      ...  ...      ...      ...   \n",
      "261        0        0        0        0        0  ...      244      250   \n",
      "262        0        0        0        0        0  ...        1        1   \n",
      "263        0        0        0        0        0  ...      585      585   \n",
      "264        0        0        0        0        0  ...      326      329   \n",
      "265        0        0        0        0        0  ...      224      224   \n",
      "\n",
      "     9/19/20  9/20/20  9/21/20  9/22/20  9/23/20  9/24/20  9/25/20  9/26/20  \n",
      "0       1437     1441     1444     1445     1446     1451     1451     1453  \n",
      "1        358      362      364      367      370      370      373      375  \n",
      "2       1665     1672     1679     1689     1698     1703     1707     1711  \n",
      "3         53       53       53       53       53       53       53       53  \n",
      "4        147      152      154      155      159      162      167      171  \n",
      "..       ...      ...      ...      ...      ...      ...      ...      ...  \n",
      "261      253      262      265      269      272      274      278      285  \n",
      "262        1        1        1        1        1        1        1        1  \n",
      "263      585      586      586      586      586      586      587      587  \n",
      "264      330      330      331      331      332      332      332      332  \n",
      "265      225      225      225      226      227      227      227      227  \n",
      "\n",
      "[266 rows x 253 columns]\n"
     ]
    }
   ],
   "source": [
    "print(df)"
   ]
  },
  {
   "cell_type": "code",
   "execution_count": null,
   "metadata": {},
   "outputs": [],
   "source": []
  }
 ],
 "metadata": {
  "kernelspec": {
   "display_name": "Python 3",
   "language": "python",
   "name": "python3"
  },
  "language_info": {
   "codemirror_mode": {
    "name": "ipython",
    "version": 3
   },
   "file_extension": ".py",
   "mimetype": "text/x-python",
   "name": "python",
   "nbconvert_exporter": "python",
   "pygments_lexer": "ipython3",
   "version": "3.7.6"
  }
 },
 "nbformat": 4,
 "nbformat_minor": 4
}
